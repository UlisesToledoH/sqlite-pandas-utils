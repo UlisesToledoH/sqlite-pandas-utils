{
  "nbformat": 4,
  "nbformat_minor": 0,
  "metadata": {
    "colab": {
      "provenance": [],
      "authorship_tag": "ABX9TyN45FKyzEhwD2hWhnHmMTrP",
      "include_colab_link": true
    },
    "kernelspec": {
      "name": "python3",
      "display_name": "Python 3"
    },
    "language_info": {
      "name": "python"
    }
  },
  "cells": [
    {
      "cell_type": "markdown",
      "metadata": {
        "id": "view-in-github",
        "colab_type": "text"
      },
      "source": [
        "<a href=\"https://colab.research.google.com/github/UlisesToledoH/sqlite-pandas-utils/blob/main/DB_SQLite.ipynb\" target=\"_parent\"><img src=\"https://colab.research.google.com/assets/colab-badge.svg\" alt=\"Open In Colab\"/></a>"
      ]
    },
    {
      "cell_type": "markdown",
      "source": [
        "BD con SQLite en Colab."
      ],
      "metadata": {
        "id": "bLk2zCvcakSU"
      }
    },
    {
      "cell_type": "code",
      "execution_count": 1,
      "metadata": {
        "id": "knBBTNMD2Z0Y"
      },
      "outputs": [],
      "source": [
        "import sqlite3\n",
        "import pandas as pd"
      ]
    },
    {
      "cell_type": "code",
      "source": [
        "#creacion de la conexion a la bse de datos en memoria\n",
        "conexion = sqlite3.connect(\"DataBaseUli\")\n",
        "cursor = conexion.cursor();"
      ],
      "metadata": {
        "id": "ROveRMIWUbVi"
      },
      "execution_count": 3,
      "outputs": []
    },
    {
      "cell_type": "code",
      "source": [
        "#creo las tablas\n",
        "#tabla clientes\n",
        "cursor.execute(\"\"\"\n",
        "CREATE TABLE IF NOT EXISTS Clientes(\n",
        "    id_cliente integer primary key,\n",
        "    nombre TEXT,\n",
        "    correo TEXT,\n",
        "    telefono integer\n",
        "    )\n",
        "\"\"\")\n",
        "#tabla compras\n",
        "cursor.execute(\"\"\"\n",
        "CREATE TABLE IF NOT EXISTS Compras(\n",
        "    id_compra integer primary key,\n",
        "    id_cliente integer,\n",
        "    fecha datetime,\n",
        "    monto real,\n",
        "    foreign key (id_cliente) references Clientes(id_cliente)\n",
        "    )\n",
        "\"\"\")"
      ],
      "metadata": {
        "colab": {
          "base_uri": "https://localhost:8080/"
        },
        "id": "T5DfFoOJUzLc",
        "outputId": "cc924b12-9624-428b-c4af-08c6e965523c"
      },
      "execution_count": 12,
      "outputs": [
        {
          "output_type": "execute_result",
          "data": {
            "text/plain": [
              "<sqlite3.Cursor at 0x7a750863a1c0>"
            ]
          },
          "metadata": {},
          "execution_count": 12
        }
      ]
    },
    {
      "cell_type": "code",
      "source": [
        "#Llenado de tablas\n",
        "\n",
        "#tabla cliente\n",
        "cliente_data = [\n",
        "    (1,\"Ulises\", \"correo1@gmail.com\",123456789 ), #id,nombre,correo,tel\n",
        "    (2,\"Ana\", \"correo2@gmail.com\", 123455589 ),\n",
        "    (3,\"Canela\", \"correo3@gmail.com\", 123556789)\n",
        "]\n",
        "\n",
        "#tabla compras\n",
        "compras_data = [\n",
        "    (1, 1, \"2024-06-01\", 500.0), #id compra, id cliente, fecha, monto\n",
        "    (2, 2, \"2024-06-02\", 320.0),\n",
        "    (3, 1, \"2024-06-03\", 150.0)\n",
        "]\n",
        "\n",
        "cursor.executemany(\"INSERT INTO Clientes VALUES (?,?,?,?)\", cliente_data)\n",
        "cursor.executemany(\"INSERT INTO Compras VALUES (?,?,?,?)\", compras_data)\n",
        "\n",
        "conexion.commit()"
      ],
      "metadata": {
        "id": "LDXi07TjWNPW"
      },
      "execution_count": null,
      "outputs": []
    },
    {
      "cell_type": "code",
      "source": [
        "#actualizamos valor de id_cliente\n",
        "id_update = 3\n",
        "cursor.execute(\"Update Compras set id_cliente = ? where id_cliente = 1 and id_compra = 3\",(id_update,))\n",
        "conexion.commit()"
      ],
      "metadata": {
        "id": "fqP0alXyc8g-"
      },
      "execution_count": 21,
      "outputs": []
    },
    {
      "cell_type": "code",
      "source": [
        "#consulta\n",
        "\n",
        "consulta = pd.read_sql_query(\"SELECT nombre,fecha,monto FROM Clientes join Compras on Compras.id_cliente = Clientes.id_cliente\", conexion)\n",
        "print(consulta)"
      ],
      "metadata": {
        "colab": {
          "base_uri": "https://localhost:8080/"
        },
        "id": "6YUi0wnRZMrj",
        "outputId": "94c34398-7543-4235-f249-1b09897907e1"
      },
      "execution_count": 22,
      "outputs": [
        {
          "output_type": "stream",
          "name": "stdout",
          "text": [
            "   nombre       fecha  monto\n",
            "0  Ulises  2024-06-01  500.0\n",
            "1     Ana  2024-06-02  320.0\n",
            "2  Canela  2024-06-03  150.0\n"
          ]
        }
      ]
    }
  ]
}